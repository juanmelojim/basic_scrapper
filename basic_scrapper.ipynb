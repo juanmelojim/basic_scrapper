{
 "cells": [
  {
   "cell_type": "code",
   "execution_count": 244,
   "id": "7cbdcb1f-9fcc-4bab-ac5a-31b349edd803",
   "metadata": {},
   "outputs": [],
   "source": [
    "#pip install selenium pandas"
   ]
  },
  {
   "cell_type": "code",
   "execution_count": 245,
   "id": "beeb9e34-1043-4465-adaa-b1af147857f0",
   "metadata": {},
   "outputs": [],
   "source": [
    "# Import Required Libraries\n",
    "\n",
    "from selenium import webdriver\n",
    "from selenium.webdriver.common.by import By\n",
    "import pandas as pd"
   ]
  },
  {
   "cell_type": "code",
   "execution_count": 246,
   "id": "e6f41ebe-470d-4135-b280-0d6fb02b2247",
   "metadata": {},
   "outputs": [],
   "source": [
    "# Initialize the WebDriver\n",
    "driver = webdriver.Chrome()"
   ]
  },
  {
   "cell_type": "code",
   "execution_count": 247,
   "id": "b087dfba-1278-483a-aeeb-a49e5708f851",
   "metadata": {},
   "outputs": [],
   "source": [
    "#Define the URL and Open the Webpage\n",
    "\n",
    "url = 'http://quotes.toscrape.com/'  # Replace with your desired URL\n",
    "driver.get(url)"
   ]
  },
  {
   "cell_type": "code",
   "execution_count": 248,
   "id": "b9afe2e9-6918-42fd-ac8c-cfd5309a636b",
   "metadata": {},
   "outputs": [
    {
     "name": "stdout",
     "output_type": "stream",
     "text": [
      "“The world as we have created it is a process of our thinking. It cannot be changed without changing our thinking.”\n",
      "\n",
      "Albert Einstein\n"
     ]
    }
   ],
   "source": [
    "# Capture the quote text and author name and print them\n",
    "\n",
    "quote_text = driver.find_element(By.CSS_SELECTOR, \"div.quote span.text\").text\n",
    "author_name = driver.find_element(By.CSS_SELECTOR, \"div.quote small.author\").text\n",
    "print(quote_text)\n",
    "print()\n",
    "print(author_name)\n"
   ]
  },
  {
   "cell_type": "code",
   "execution_count": 249,
   "id": "326bfaaf-03d9-46f8-8cb6-3d99ecd07f79",
   "metadata": {},
   "outputs": [
    {
     "name": "stdout",
     "output_type": "stream",
     "text": [
      "            Author                                              Quote\n",
      "0  Albert Einstein  “The world as we have created it is a process ...\n"
     ]
    }
   ],
   "source": [
    "data = pd.DataFrame({'Author': [author_name],'Quote': [quote_text]})\n",
    "\n",
    "print (data)\n",
    "\n",
    "driver.quit()"
   ]
  }
 ],
 "metadata": {
  "kernelspec": {
   "display_name": "Python [conda env:base] *",
   "language": "python",
   "name": "conda-base-py"
  },
  "language_info": {
   "codemirror_mode": {
    "name": "ipython",
    "version": 3
   },
   "file_extension": ".py",
   "mimetype": "text/x-python",
   "name": "python",
   "nbconvert_exporter": "python",
   "pygments_lexer": "ipython3",
   "version": "3.12.7"
  }
 },
 "nbformat": 4,
 "nbformat_minor": 5
}
